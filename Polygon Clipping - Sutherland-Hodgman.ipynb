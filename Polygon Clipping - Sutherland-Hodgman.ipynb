{
 "cells": [
  {
   "cell_type": "code",
   "execution_count": 1,
   "metadata": {},
   "outputs": [],
   "source": [
    "#Importing necessary libraries:\n",
    "import matplotlib.pyplot as plt"
   ]
  },
  {
   "cell_type": "code",
   "execution_count": 2,
   "metadata": {},
   "outputs": [],
   "source": [
    "#Function for common raster with 4 co-ordinates:\n",
    "def printRaster():\n",
    "    plt.grid()\n",
    "    plt.xlabel(\"X-axis\")\n",
    "    plt.ylabel(\"Y-axis\")\n",
    "    plt.plot([0.0,0.0], [-1.0*(rasterSize/2),(rasterSize/2)], color=\"black\", linestyle=\"dotted\")\n",
    "    plt.plot([-1.0*(rasterSize/2),(rasterSize/2)], [0.0,0.0], color=\"black\", linestyle=\"dotted\")"
   ]
  },
  {
   "cell_type": "code",
   "execution_count": 3,
   "metadata": {},
   "outputs": [],
   "source": [
    "rasterSize = 10 #eval(input(\"Enter Raster Size: \"))"
   ]
  },
  {
   "cell_type": "code",
   "execution_count": 4,
   "metadata": {},
   "outputs": [
    {
     "data": {
      "image/png": "[encoded data removed]",
      "text/plain": [
       "<Figure size 432x288 with 1 Axes>"
      ]
     },
     "metadata": {},
     "output_type": "display_data"
    }
   ],
   "source": [
    "printRaster() #Calling function 'printRaster()'\n",
    "plt.show() #Displaying raster with 4 co-ordinates"
   ]
  },
  {
   "cell_type": "code",
   "execution_count": 5,
   "metadata": {},
   "outputs": [
    {
     "name": "stdout",
     "output_type": "stream",
     "text": [
      "Viewport co-ordinates (lower-left - upper-right): -2 -2 2 2\n"
     ]
    }
   ],
   "source": [
    "#Input viewport co-ordinates:\n",
    "view_co = input(\"Viewport co-ordinates (lower-left - upper-right): \")"
   ]
  },
  {
   "cell_type": "code",
   "execution_count": 6,
   "metadata": {},
   "outputs": [
    {
     "data": {
      "text/plain": [
       "'-2 -2 2 2'"
      ]
     },
     "execution_count": 6,
     "metadata": {},
     "output_type": "execute_result"
    }
   ],
   "source": [
    "view_co"
   ]
  },
  {
   "cell_type": "code",
   "execution_count": 7,
   "metadata": {},
   "outputs": [
    {
     "data": {
      "text/plain": [
       "['-2', '-2', '2', '2']"
      ]
     },
     "execution_count": 7,
     "metadata": {},
     "output_type": "execute_result"
    }
   ],
   "source": [
    "view_points = view_co.split(\" \")\n",
    "view_points"
   ]
  },
  {
   "cell_type": "code",
   "execution_count": 8,
   "metadata": {},
   "outputs": [
    {
     "name": "stdout",
     "output_type": "stream",
     "text": [
      "x_min= -2 , x_max= 2\n"
     ]
    }
   ],
   "source": [
    "if eval(view_points[0]) < eval(view_points[2]):\n",
    "    x_min = eval(view_points[0])\n",
    "    x_max = eval(view_points[2])\n",
    "else:\n",
    "    x_min = eval(view_points[2])\n",
    "    x_max = eval(view_points[0])\n",
    "print(\"x_min=\",x_min,\", x_max=\",x_max)"
   ]
  },
  {
   "cell_type": "code",
   "execution_count": 9,
   "metadata": {},
   "outputs": [
    {
     "name": "stdout",
     "output_type": "stream",
     "text": [
      "y_min= -2 , y_max= 2\n"
     ]
    }
   ],
   "source": [
    "if eval(view_points[1]) < eval(view_points[3]):\n",
    "    y_min = eval(view_points[1])\n",
    "    y_max = eval(view_points[3])\n",
    "else:\n",
    "    y_min = eval(view_points[3])\n",
    "    y_max = eval(view_points[1])\n",
    "print(\"y_min=\",y_min,\", y_max=\",y_max)"
   ]
  },
  {
   "cell_type": "code",
   "execution_count": 10,
   "metadata": {},
   "outputs": [
    {
     "data": {
      "image/png": "[encoded data removed]",
      "text/plain": [
       "<Figure size 432x288 with 1 Axes>"
      ]
     },
     "metadata": {},
     "output_type": "display_data"
    }
   ],
   "source": [
    "printRaster() #Calling function to display the raster\n",
    "plt.title(\"2D Viewing and Clipping\") #Title of the figure\n",
    "\n",
    "#Plotting and joining each corner points...\n",
    "plt.plot([x_min,x_max,x_max,x_min,x_min], [y_min,y_min,y_max,y_max,y_min], label=\"viewport\", color='grey') #and the scaled object.\n",
    "\n",
    "plt.legend()\n",
    "plt.show()"
   ]
  },
  {
   "cell_type": "code",
   "execution_count": 11,
   "metadata": {},
   "outputs": [
    {
     "name": "stdout",
     "output_type": "stream",
     "text": [
      "Polygon co-ordinates (counter-clockwise): -3 -1 -1 -1 -1 -3 1 -3 1 -1 3 -1 3 1 1 1 1 3 -1 3 -1 1 -3 1\n"
     ]
    }
   ],
   "source": [
    "polygonCoordinates = input(\"Polygon co-ordinates (counter-clockwise): \")"
   ]
  },
  {
   "cell_type": "code",
   "execution_count": 12,
   "metadata": {},
   "outputs": [
    {
     "data": {
      "text/plain": [
       "'-3 -1 -1 -1 -1 -3 1 -3 1 -1 3 -1 3 1 1 1 1 3 -1 3 -1 1 -3 1'"
      ]
     },
     "execution_count": 12,
     "metadata": {},
     "output_type": "execute_result"
    }
   ],
   "source": [
    "polygonCoordinates"
   ]
  },
  {
   "cell_type": "code",
   "execution_count": 13,
   "metadata": {},
   "outputs": [
    {
     "name": "stdout",
     "output_type": "stream",
     "text": [
      "['-3', '-1', '-1', '-1', '-1', '-3', '1', '-3', '1', '-1', '3', '-1', '3', '1', '1', '1', '1', '3', '-1', '3', '-1', '1', '-3', '1']\n"
     ]
    }
   ],
   "source": [
    "polygonPoints = polygonCoordinates.split(\" \")\n",
    "print(polygonPoints)"
   ]
  },
  {
   "cell_type": "code",
   "execution_count": 14,
   "metadata": {},
   "outputs": [],
   "source": [
    "x_list = [] #List for x-axis values of object points\n",
    "y_list = [] #List for y-axis values of object points\n",
    "\n",
    "#Convert the elements into float and split them into x & y co-ordinate values:\n",
    "for i in range (0, len(polygonPoints)):\n",
    "    temp = eval(polygonPoints[i])\n",
    "    \n",
    "    if i%2 == 0: #If the position of current found string is even, then it is the value of x co-ordinate...\n",
    "        x_list.append(temp)\n",
    "    else: #otherwise, it is the value of y co-ordinate...\n",
    "        y_list.append(temp)\n",
    "        \n",
    "x_list.append(eval(polygonPoints[0]))\n",
    "y_list.append(eval(polygonPoints[1]))"
   ]
  },
  {
   "cell_type": "code",
   "execution_count": 15,
   "metadata": {},
   "outputs": [
    {
     "data": {
      "text/plain": [
       "[-3, -1, -1, 1, 1, 3, 3, 1, 1, -1, -1, -3, -3]"
      ]
     },
     "execution_count": 15,
     "metadata": {},
     "output_type": "execute_result"
    }
   ],
   "source": [
    "x_list"
   ]
  },
  {
   "cell_type": "code",
   "execution_count": 16,
   "metadata": {},
   "outputs": [
    {
     "data": {
      "text/plain": [
       "[-1, -1, -3, -3, -1, -1, 1, 1, 3, 3, 1, 1, -1]"
      ]
     },
     "execution_count": 16,
     "metadata": {},
     "output_type": "execute_result"
    }
   ],
   "source": [
    "y_list"
   ]
  },
  {
   "cell_type": "code",
   "execution_count": 17,
   "metadata": {},
   "outputs": [
    {
     "data": {
      "image/png": "[encoded data removed]",
      "text/plain": [
       "<Figure size 432x288 with 1 Axes>"
      ]
     },
     "metadata": {},
     "output_type": "display_data"
    }
   ],
   "source": [
    "printRaster() #Calling function to display the raster\n",
    "plt.title(\"2D Viewing and Clipping: Polygon Clipping\") #Title of the figure\n",
    "plt.plot([x_min,x_max,x_max,x_min,x_min], [y_min,y_min,y_max,y_max,y_min], label=\"viewport\", color=\"grey\") #Viewport\n",
    "plt.plot(x_list, y_list, label=\"polygon\", color=\"green\") #Polygon\n",
    "\n",
    "plt.legend()\n",
    "plt.show()"
   ]
  },
  {
   "cell_type": "code",
   "execution_count": 18,
   "metadata": {},
   "outputs": [],
   "source": [
    "clipped_xList_1 = []\n",
    "clipped_yList_1 = []\n",
    "\n",
    "#Clipping with respect to line x_max:\n",
    "for i in range(0, len(x_list)):\n",
    "    Px_prev = x_list[i-1]\n",
    "    Px_current = x_list[i]\n",
    "\n",
    "    Py_prev = y_list[i-1]\n",
    "    Py_current = y_list[i]\n",
    "    \n",
    "    if Px_prev<=x_max and Px_current<=x_max: #Pi-1 and Pi - both are to the left of the clipping line.\n",
    "        clipped_xList_1.append(Px_current)\n",
    "        clipped_yList_1.append(Py_current)\n",
    "    \n",
    "    elif Px_prev>x_max and Px_current>x_max: #Pi-1 and Pi - both are to the right side of the clipping line.\n",
    "        continue\n",
    "    \n",
    "    elif Px_prev<=x_max and Px_current>x_max: #Pi-1 to the left, but Pi to the right side of the clipping line.\n",
    "        Ix = x_max\n",
    "        Iy = Py_prev+(Ix-Px_prev)*((Py_current-Py_prev)/(Px_current-Px_prev))\n",
    "        \n",
    "        clipped_xList_1.append(Ix)\n",
    "        clipped_yList_1.append(Iy)\n",
    "    \n",
    "    elif Px_prev>x_max and Px_current<=x_max: #Pi-1 to right, but Pi to the left of the clipping line.        \n",
    "        Ix = x_max\n",
    "        Iy = Py_prev+(Ix-Px_prev)*((Py_current-Py_prev)/(Px_current-Px_prev))\n",
    "        \n",
    "        clipped_xList_1.append(Ix)\n",
    "        clipped_yList_1.append(Iy)\n",
    "        \n",
    "        clipped_xList_1.append(Px_current)\n",
    "        clipped_yList_1.append(Py_current)\n",
    "        \n",
    "clipped_xList_1.append(clipped_xList_1[0])\n",
    "clipped_yList_1.append(clipped_yList_1[0])"
   ]
  },
  {
   "cell_type": "code",
   "execution_count": 19,
   "metadata": {},
   "outputs": [
    {
     "data": {
      "text/plain": [
       "[-3, -1, -1, 1, 1, 2, 2, 1, 1, -1, -1, -3, -3, -3]"
      ]
     },
     "execution_count": 19,
     "metadata": {},
     "output_type": "execute_result"
    }
   ],
   "source": [
    "clipped_xList_1"
   ]
  },
  {
   "cell_type": "code",
   "execution_count": 20,
   "metadata": {},
   "outputs": [
    {
     "data": {
      "text/plain": [
       "[-1, -1, -3, -3, -1, -1.0, 1.0, 1, 3, 3, 1, 1, -1, -1]"
      ]
     },
     "execution_count": 20,
     "metadata": {},
     "output_type": "execute_result"
    }
   ],
   "source": [
    "clipped_yList_1"
   ]
  },
  {
   "cell_type": "code",
   "execution_count": 21,
   "metadata": {},
   "outputs": [
    {
     "data": {
      "image/png": "[encoded data removed]",
      "text/plain": [
       "<Figure size 432x288 with 1 Axes>"
      ]
     },
     "metadata": {},
     "output_type": "display_data"
    }
   ],
   "source": [
    "printRaster() #Calling function to display the raster\n",
    "plt.title(\"2D Viewing and Clipping: Polygon Clipping: Part-1 of 4\") #Title of the figure\n",
    "\n",
    "plt.plot([x_min,x_max,x_max,x_min,x_min], [y_min,y_min,y_max,y_max,y_min], label=\"viewport\", color=\"grey\") #Viewport\n",
    "plt.plot(clipped_xList_1, clipped_yList_1, label=\"clipping-1\", color=\"green\") #Polygon after 1st clipping.\n",
    "\n",
    "plt.legend()\n",
    "plt.show()"
   ]
  },
  {
   "cell_type": "code",
   "execution_count": 22,
   "metadata": {},
   "outputs": [],
   "source": [
    "clipped_xList_2 = []\n",
    "clipped_yList_2 = []\n",
    "\n",
    "#Clipping with respect to line y_max:\n",
    "for i in range(0, len(clipped_xList_1)):\n",
    "    Px_prev = clipped_xList_1[i-1]\n",
    "    Px_current = clipped_xList_1[i]\n",
    "\n",
    "    Py_prev = clipped_yList_1[i-1]\n",
    "    Py_current = clipped_yList_1[i]\n",
    "    \n",
    "    if Py_prev<=y_max and Py_current<=y_max: #Pi-1 and Pi - both are to the left of the clipping line.\n",
    "        clipped_xList_2.append(Px_current)\n",
    "        clipped_yList_2.append(Py_current)\n",
    "    \n",
    "    elif Py_prev>y_max and Py_current>y_max: #Pi-1 and Pi - both are to the right side of the clipping line.\n",
    "        continue\n",
    "    \n",
    "    elif Py_prev<=y_max and Py_current>y_max: #Pi-1 to the left, but Pi to the right side of the clipping line.\n",
    "        Iy = y_max\n",
    "        Ix = Px_prev+(Iy-Py_prev)*((Px_current-Px_prev)/(Py_current-Py_prev))\n",
    "        \n",
    "        clipped_xList_2.append(Ix)\n",
    "        clipped_yList_2.append(Iy)\n",
    "    \n",
    "    elif Py_prev>y_max and Py_current<=y_max: #Pi-1 to right, but Pi to the left of the clipping line.\n",
    "        Iy = y_max\n",
    "        Ix = Px_prev+(Iy-Py_prev)*((Px_current-Px_prev)/(Py_current-Py_prev))\n",
    "        \n",
    "        clipped_xList_2.append(Ix)\n",
    "        clipped_yList_2.append(Iy)\n",
    "        \n",
    "        clipped_xList_2.append(Px_current)\n",
    "        clipped_yList_2.append(Py_current)\n",
    "        \n",
    "clipped_xList_2.append(clipped_xList_2[0])\n",
    "clipped_yList_2.append(clipped_yList_2[0])"
   ]
  },
  {
   "cell_type": "code",
   "execution_count": 23,
   "metadata": {},
   "outputs": [
    {
     "data": {
      "text/plain": [
       "[-3, -1, -1, 1, 1, 2, 2, 1, 1.0, -1.0, -1, -3, -3, -3, -3]"
      ]
     },
     "execution_count": 23,
     "metadata": {},
     "output_type": "execute_result"
    }
   ],
   "source": [
    "clipped_xList_2"
   ]
  },
  {
   "cell_type": "code",
   "execution_count": 24,
   "metadata": {},
   "outputs": [
    {
     "data": {
      "text/plain": [
       "[-1, -1, -3, -3, -1, -1.0, 1.0, 1, 2, 2, 1, 1, -1, -1, -1]"
      ]
     },
     "execution_count": 24,
     "metadata": {},
     "output_type": "execute_result"
    }
   ],
   "source": [
    "clipped_yList_2"
   ]
  },
  {
   "cell_type": "code",
   "execution_count": 25,
   "metadata": {},
   "outputs": [
    {
     "data": {
      "image/png": "[encoded data removed]",
      "text/plain": [
       "<Figure size 432x288 with 1 Axes>"
      ]
     },
     "metadata": {},
     "output_type": "display_data"
    }
   ],
   "source": [
    "printRaster() #Calling function to display the raster\n",
    "plt.title(\"2D Viewing and Clipping: Polygon Clipping: Part-2 of 4\") #Title of the figure\n",
    "\n",
    "plt.plot([x_min,x_max,x_max,x_min,x_min], [y_min,y_min,y_max,y_max,y_min], label=\"viewport\", color=\"grey\") #Viewport\n",
    "plt.plot(clipped_xList_2, clipped_yList_2, label=\"clipping-2\", color=\"green\") #Polygon after 2nd clipping.\n",
    "\n",
    "plt.legend()\n",
    "plt.show()"
   ]
  },
  {
   "cell_type": "code",
   "execution_count": 26,
   "metadata": {},
   "outputs": [],
   "source": [
    "clipped_xList_3 = []\n",
    "clipped_yList_3 = []\n",
    "\n",
    "#Clipping with respect to line x_min:\n",
    "for i in range(0, len(clipped_xList_2)):\n",
    "    Px_prev = clipped_xList_2[i-1]\n",
    "    Px_current = clipped_xList_2[i]\n",
    "\n",
    "    Py_prev = clipped_yList_2[i-1]\n",
    "    Py_current = clipped_yList_2[i]\n",
    "    \n",
    "    if Px_prev>=x_min and Px_current>=x_min: #Pi-1 and Pi - both are to the left of the clipping line.\n",
    "        clipped_xList_3.append(Px_current)\n",
    "        clipped_yList_3.append(Py_current)\n",
    "    \n",
    "    elif Px_prev<x_min and Px_current<x_min: #Pi-1 and Pi - both are to the right side of the clipping line.\n",
    "        continue\n",
    "    \n",
    "    elif Px_prev>=x_min and Px_current<x_min: #Pi-1 to the left, but Pi to the right side of the clipping line.\n",
    "        Ix = x_min\n",
    "        Iy = Py_prev+(Ix-Px_prev)*((Py_current-Py_prev)/(Px_current-Px_prev))\n",
    "        \n",
    "        clipped_xList_3.append(Ix)\n",
    "        clipped_yList_3.append(Iy)\n",
    "    \n",
    "    elif Px_prev<x_min and Px_current>=x_min: #Pi-1 to right, but Pi to the left of the clipping line.\n",
    "        Ix = x_min\n",
    "        Iy = Py_prev+(Ix-Px_prev)*((Py_current-Py_prev)/(Px_current-Px_prev))\n",
    "        \n",
    "        clipped_xList_3.append(Ix)\n",
    "        clipped_yList_3.append(Iy)\n",
    "        \n",
    "        clipped_xList_3.append(Px_current)\n",
    "        clipped_yList_3.append(Py_current)\n",
    "        \n",
    "clipped_xList_3.append(clipped_xList_3[0])\n",
    "clipped_yList_3.append(clipped_yList_3[0])"
   ]
  },
  {
   "cell_type": "code",
   "execution_count": 27,
   "metadata": {},
   "outputs": [
    {
     "data": {
      "text/plain": [
       "[-2, -1, -1, 1, 1, 2, 2, 1, 1.0, -1.0, -1, -2, -2]"
      ]
     },
     "execution_count": 27,
     "metadata": {},
     "output_type": "execute_result"
    }
   ],
   "source": [
    "clipped_xList_3"
   ]
  },
  {
   "cell_type": "code",
   "execution_count": 28,
   "metadata": {},
   "outputs": [
    {
     "data": {
      "text/plain": [
       "[-1.0, -1, -3, -3, -1, -1.0, 1.0, 1, 2, 2, 1, 1.0, -1.0]"
      ]
     },
     "execution_count": 28,
     "metadata": {},
     "output_type": "execute_result"
    }
   ],
   "source": [
    "clipped_yList_3"
   ]
  },
  {
   "cell_type": "code",
   "execution_count": 29,
   "metadata": {},
   "outputs": [
    {
     "data": {
      "image/png": "[encoded data removed]",
      "text/plain": [
       "<Figure size 432x288 with 1 Axes>"
      ]
     },
     "metadata": {},
     "output_type": "display_data"
    }
   ],
   "source": [
    "printRaster() #Calling function to display the raster\n",
    "plt.title(\"2D Viewing and Clipping: Polygon Clipping: Part-3 of 4\") #Title of the figure\n",
    "\n",
    "plt.plot([x_min,x_max,x_max,x_min,x_min], [y_min,y_min,y_max,y_max,y_min], label=\"viewport\", color=\"grey\") #Viewport\n",
    "plt.plot(clipped_xList_3, clipped_yList_3, label=\"clipping-3\", color=\"green\") #Polygon after 3rd clipping.\n",
    "\n",
    "plt.legend()\n",
    "plt.show()"
   ]
  },
  {
   "cell_type": "code",
   "execution_count": 30,
   "metadata": {},
   "outputs": [],
   "source": [
    "clipped_xList_4 = []\n",
    "clipped_yList_4 = []\n",
    "\n",
    "#Clipping with respect to line y_min:\n",
    "for i in range(0, len(clipped_xList_3)):\n",
    "    Px_prev = clipped_xList_3[i-1]\n",
    "    Px_current = clipped_xList_3[i]\n",
    "\n",
    "    Py_prev = clipped_yList_3[i-1]\n",
    "    Py_current = clipped_yList_3[i]\n",
    "    \n",
    "    if Py_prev>=y_min and Py_current>=y_min: #Pi-1 and Pi - both are to the left of the clipping line.\n",
    "        clipped_xList_4.append(Px_current)\n",
    "        clipped_yList_4.append(Py_current)\n",
    "    \n",
    "    elif Py_prev<y_min and Py_current<y_min: #Pi-1 and Pi - both are to the right side of the clipping line.\n",
    "        continue\n",
    "    \n",
    "    elif Py_prev>=y_min and Py_current<y_min: #Pi-1 to the left, but Pi to the right side of the clipping line.\n",
    "        Iy = y_min\n",
    "        Ix = Px_prev+(Iy-Py_prev)*((Px_current-Px_prev)/(Py_current-Py_prev))\n",
    "        \n",
    "        clipped_xList_4.append(Ix)\n",
    "        clipped_yList_4.append(Iy)\n",
    "    \n",
    "    elif Py_prev<y_min and Py_current>=y_min: #Pi-1 to right, but Pi to the left of the clipping line.\n",
    "        Iy = y_min\n",
    "        Ix = Px_prev+(Iy-Py_prev)*((Px_current-Px_prev)/(Py_current-Py_prev))\n",
    "        \n",
    "        clipped_xList_4.append(Ix)\n",
    "        clipped_yList_4.append(Iy)\n",
    "        \n",
    "        clipped_xList_4.append(Px_current)\n",
    "        clipped_yList_4.append(Py_current)\n",
    "        \n",
    "clipped_xList_4.append(clipped_xList_4[0])\n",
    "clipped_yList_4.append(clipped_yList_4[0])"
   ]
  },
  {
   "cell_type": "code",
   "execution_count": 31,
   "metadata": {},
   "outputs": [
    {
     "data": {
      "text/plain": [
       "[-2, -1, -1.0, 1.0, 1, 2, 2, 1, 1.0, -1.0, -1, -2, -2, -2]"
      ]
     },
     "execution_count": 31,
     "metadata": {},
     "output_type": "execute_result"
    }
   ],
   "source": [
    "clipped_xList_4"
   ]
  },
  {
   "cell_type": "code",
   "execution_count": 32,
   "metadata": {},
   "outputs": [
    {
     "data": {
      "text/plain": [
       "[-1.0, -1, -2, -2, -1, -1.0, 1.0, 1, 2, 2, 1, 1.0, -1.0, -1.0]"
      ]
     },
     "execution_count": 32,
     "metadata": {},
     "output_type": "execute_result"
    }
   ],
   "source": [
    "clipped_yList_4"
   ]
  },
  {
   "cell_type": "code",
   "execution_count": 33,
   "metadata": {},
   "outputs": [
    {
     "data": {
      "image/png": "[encoded data removed]",
      "text/plain": [
       "<Figure size 432x288 with 1 Axes>"
      ]
     },
     "metadata": {},
     "output_type": "display_data"
    }
   ],
   "source": [
    "printRaster() #Calling function to display the raster\n",
    "plt.title(\"2D Viewing and Clipping: Polygon Clipping: Part-4 of 4\") #Title of the figure\n",
    "\n",
    "plt.plot([x_min,x_max,x_max,x_min,x_min], [y_min,y_min,y_max,y_max,y_min], label=\"viewport\", color=\"grey\") #Viewport\n",
    "plt.plot(clipped_xList_4, clipped_yList_4, label=\"clipping-final\", color=\"green\") #Polygon after 4th clipping.\n",
    "\n",
    "plt.legend()\n",
    "plt.show()"
   ]
  },
  {
   "cell_type": "code",
   "execution_count": null,
   "metadata": {},
   "outputs": [],
   "source": []
  }
 ],
 "metadata": {
  "kernelspec": {
   "display_name": "Python 3",
   "language": "python",
   "name": "python3"
  },
  "language_info": {
   "codemirror_mode": {
    "name": "ipython",
    "version": 3
   },
   "file_extension": ".py",
   "mimetype": "text/x-python",
   "name": "python",
   "nbconvert_exporter": "python",
   "pygments_lexer": "ipython3",
   "version": "3.6.4"
  }
 },
 "nbformat": 4,
 "nbformat_minor": 2
}
